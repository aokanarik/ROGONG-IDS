{
 "cells": [
  {
   "cell_type": "code",
   "execution_count": 1,
   "id": "229a362f",
   "metadata": {},
   "outputs": [],
   "source": [
    "import pandas as pd\n",
    "import glob\n",
    "import numpy as np\n",
    "from imblearn import under_sampling, over_sampling, combine\n",
    "from imblearn.over_sampling import SMOTE\n",
    "from sklearn.preprocessing import OneHotEncoder\n",
    "from collections import Counter\n",
    "from sklearn.model_selection import train_test_split\n",
    "from sklearn.preprocessing import LabelEncoder \n",
    "import os\n",
    "os.environ['KMP_DUPLICATE_LIB_OK']='True'\n",
    "import xgboost as xgb\n",
    "from sklearn.metrics import accuracy_score\n",
    "from sklearn.metrics import classification_report, confusion_matrix\n"
   ]
  },
  {
   "cell_type": "code",
   "execution_count": 2,
   "id": "ebb8c321",
   "metadata": {},
   "outputs": [],
   "source": [
    "#conda install -c conda-forge xgboost"
   ]
  },
  {
   "cell_type": "code",
   "execution_count": 3,
   "id": "0007ce8f",
   "metadata": {},
   "outputs": [],
   "source": [
    "#reading data\n",
    "\n",
    "path = '/Users/ahmetokanarik/Desktop/MScThesis/Dataset/UNSQ-NB15'\n",
    "all_files = glob.glob(path + \"/*.csv\")\n",
    "li = []\n",
    "\n",
    "for filename in all_files:\n",
    "    df = pd.read_csv(filename,header=None,sep=';',low_memory=False)\n",
    "    li.append(df)\n",
    "\n",
    "\n",
    "data = pd.concat(li, axis=0, ignore_index=True)\n",
    "data.columns = [\"srcip\",\"sport\",\"dstip\",\"dsport\",\"proto\",\"state\",\"dur\",\"sbytes\",\"dbytes\",\"sttl\",\"dttl\",\"sloss\",\"dloss\",\"service\",\"Sload\",\"Dload\",\"Spkts\",\"Dpkts\",\"swin\",\"dwin\",\"stcpb\",\"dtcpb\",\"smeansz\",\"dmeansz\",\"trans_depth\",\"res_bdy_len\",\"Sjit\",\"Djit\",\"Stime\",\"Ltime\",\"Sintpkt\",\"Dintpkt\",\"tcprtt\",\"synack\",\"ackdat\",\"is_sm_ips_ports\",\"ct_state_ttl\",\"ct_flw_http_mthd\",\"is_ftp_login\",\"ct_ftp_cmd\",\"ct_srv_src\",\"ct_srv_dst\",\"ct_dst_ltm\",\"ct_src_ ltm\",\"ct_src_dport_ltm\",\"ct_dst_sport_ltm\",\"ct_dst_src_ltm\",\"attack_cat\",\"Label\"]\n"
   ]
  },
  {
   "cell_type": "code",
   "execution_count": 4,
   "id": "04aa4ab3",
   "metadata": {},
   "outputs": [
    {
     "data": {
      "text/plain": [
       "0          tcp\n",
       "1          tcp\n",
       "2          tcp\n",
       "3          udp\n",
       "4          udp\n",
       "          ... \n",
       "2540042    tcp\n",
       "2540043    tcp\n",
       "2540044    tcp\n",
       "2540045    tcp\n",
       "2540046    tcp\n",
       "Name: proto, Length: 2540047, dtype: object"
      ]
     },
     "execution_count": 4,
     "metadata": {},
     "output_type": "execute_result"
    }
   ],
   "source": [
    "data.proto"
   ]
  },
  {
   "cell_type": "code",
   "execution_count": 5,
   "id": "219e00a8",
   "metadata": {},
   "outputs": [],
   "source": [
    "#one-hot encoding\n",
    "dummies = pd.get_dummies(data[['service','proto','state']])\n",
    "data.drop(['proto','service','state'],axis=1,inplace=True)\n",
    "data = pd.concat([data, dummies], axis=1)\n",
    "data = data[[\"dtcpb\",\"stcpb\",\"service_-\",\"Dload\",\"dmeansz\",\"service_dns\",\"smeansz\",\"Sload\",\"trans_depth\",\"sttl\",\n",
    "            \"service_ftp-data\",\"ct_ftp_cmd\",\"attack_cat\"]]\n",
    "\n",
    "data['attack_cat'] = data['attack_cat'].fillna('Normal')"
   ]
  },
  {
   "cell_type": "code",
   "execution_count": 6,
   "id": "80fcbdd7",
   "metadata": {},
   "outputs": [],
   "source": [
    "replace_dict = {np.nan: 0, ' ': 0}\n",
    "for cols in ['ct_ftp_cmd']:\n",
    "    data[cols] = data[cols].replace(replace_dict)\n",
    "    \n",
    "replace_dict = {np.nan: 0, '0': 0}\n",
    "for cols in ['ct_ftp_cmd']:\n",
    "    data[cols] = data[cols].replace(replace_dict)\n",
    "        "
   ]
  },
  {
   "cell_type": "code",
   "execution_count": 7,
   "id": "e32dc166",
   "metadata": {},
   "outputs": [],
   "source": [
    "x = data.drop('attack_cat',axis=1).values.astype('float32')\n",
    "y = data.attack_cat.values"
   ]
  },
  {
   "cell_type": "code",
   "execution_count": 8,
   "id": "c0639f8c",
   "metadata": {},
   "outputs": [
    {
     "name": "stdout",
     "output_type": "stream",
     "text": [
      "[('Analysis', 2677), ('Backdoor', 2329), ('DoS', 16353), ('Exploits', 44525), ('Fuzzers', 24246), ('Generic', 215481), ('Normal', 2218764), ('Reconnaissance', 13987), ('Shellcode', 1511), ('Worms', 174)]\n"
     ]
    }
   ],
   "source": [
    "print(sorted(Counter(y).items()))"
   ]
  },
  {
   "cell_type": "code",
   "execution_count": 9,
   "id": "2111e866",
   "metadata": {},
   "outputs": [],
   "source": [
    "#Target Variable Label\n",
    "from sklearn.preprocessing import LabelEncoder\n",
    "le = LabelEncoder()\n",
    "y = le.fit_transform(y)"
   ]
  },
  {
   "cell_type": "code",
   "execution_count": 10,
   "id": "14865c37",
   "metadata": {},
   "outputs": [
    {
     "name": "stdout",
     "output_type": "stream",
     "text": [
      "[(0, 2677), (1, 2329), (2, 16353), (3, 44525), (4, 24246), (5, 215481), (6, 2218764), (7, 13987), (8, 1511), (9, 174)]\n"
     ]
    }
   ],
   "source": [
    "print(sorted(Counter(y).items()))"
   ]
  },
  {
   "cell_type": "code",
   "execution_count": 11,
   "id": "da396edc",
   "metadata": {},
   "outputs": [],
   "source": [
    "from sklearn import preprocessing\n",
    "\n",
    "scaler = preprocessing.StandardScaler()\n",
    "x = scaler.fit_transform(x)"
   ]
  },
  {
   "cell_type": "code",
   "execution_count": 12,
   "id": "68b53063",
   "metadata": {},
   "outputs": [
    {
     "data": {
      "text/plain": [
       "(2540047, 12)"
      ]
     },
     "execution_count": 12,
     "metadata": {},
     "output_type": "execute_result"
    }
   ],
   "source": [
    "x.shape"
   ]
  },
  {
   "cell_type": "code",
   "execution_count": 13,
   "id": "47e9f2f1",
   "metadata": {},
   "outputs": [],
   "source": [
    "X_train, X_test, y_train, y_test = train_test_split(x,y,test_size = 0.3,random_state=40,stratify=y)\n"
   ]
  },
  {
   "cell_type": "code",
   "execution_count": 14,
   "id": "dca60c56",
   "metadata": {},
   "outputs": [
    {
     "name": "stdout",
     "output_type": "stream",
     "text": [
      "[(0, 1874), (1, 1630), (2, 11447), (3, 31167), (4, 16972), (5, 150837), (6, 1553134), (7, 9791), (8, 1058), (9, 122)]\n"
     ]
    }
   ],
   "source": [
    "print(sorted(Counter(y_train).items()))"
   ]
  },
  {
   "cell_type": "code",
   "execution_count": 15,
   "id": "0591ddd5",
   "metadata": {},
   "outputs": [
    {
     "name": "stdout",
     "output_type": "stream",
     "text": [
      "[(0, 803), (1, 699), (2, 4906), (3, 13358), (4, 7274), (5, 64644), (6, 665630), (7, 4196), (8, 453), (9, 52)]\n"
     ]
    }
   ],
   "source": [
    "print(sorted(Counter(y_test).items()))"
   ]
  },
  {
   "cell_type": "code",
   "execution_count": 16,
   "id": "5f738b6b",
   "metadata": {},
   "outputs": [
    {
     "data": {
      "text/plain": [
       "((1778032, 12), (762015, 12))"
      ]
     },
     "execution_count": 16,
     "metadata": {},
     "output_type": "execute_result"
    }
   ],
   "source": [
    "X_train.shape, X_test.shape"
   ]
  },
  {
   "cell_type": "code",
   "execution_count": 17,
   "id": "7f797f5a",
   "metadata": {},
   "outputs": [
    {
     "name": "stdout",
     "output_type": "stream",
     "text": [
      "[(0, 177803), (1, 177803), (2, 177803), (3, 177803), (4, 177803), (5, 177803), (6, 1553134), (7, 177803), (8, 177803), (9, 177803)]\n"
     ]
    }
   ],
   "source": [
    "a = 177803 #177803 \n",
    "smo = SMOTE(sampling_strategy={0:a,1:a,2:a,3:a,4:a,5:a,7:a,8:a,9:a},random_state=42) \n",
    "X_train, y_train = smo.fit_resample(X_train, y_train)   \n",
    "print(sorted(Counter(y_train).items()))"
   ]
  },
  {
   "cell_type": "code",
   "execution_count": 18,
   "id": "dbb7c59c",
   "metadata": {},
   "outputs": [],
   "source": [
    "from imblearn.under_sampling import NearMiss\n",
    "\n",
    "# define the undersampling method\n",
    "undersample = NearMiss(version=1, n_neighbors=3, sampling_strategy={6:a})\n",
    "X_train, y_train = undersample.fit_resample(X_train, y_train)\n"
   ]
  },
  {
   "cell_type": "code",
   "execution_count": 19,
   "id": "a7d82511",
   "metadata": {},
   "outputs": [
    {
     "name": "stdout",
     "output_type": "stream",
     "text": [
      "[(0, 177803), (1, 177803), (2, 177803), (3, 177803), (4, 177803), (5, 177803), (6, 177803), (7, 177803), (8, 177803), (9, 177803)]\n"
     ]
    }
   ],
   "source": [
    "print(sorted(Counter(y_train).items()))"
   ]
  },
  {
   "cell_type": "code",
   "execution_count": 20,
   "id": "5dd82de8",
   "metadata": {},
   "outputs": [],
   "source": [
    "dtrain = xgb.DMatrix(data=X_train, label=y_train)\n",
    "dtest = xgb.DMatrix(data=X_test)"
   ]
  },
  {
   "cell_type": "code",
   "execution_count": 47,
   "id": "580c5ea3",
   "metadata": {},
   "outputs": [
    {
     "name": "stdout",
     "output_type": "stream",
     "text": [
      "SCORE:                                               \n",
      "0.0009789833533460628                                  \n",
      "100%|██████████| 1/1 [2:42:59<00:00, 9779.34s/trial, best loss: -0.0009789833533460628]\n"
     ]
    }
   ],
   "source": [
    "\"\"\"#hyperparameter tuning\n",
    "\n",
    "import hyperopt\n",
    "from hyperopt import fmin, tpe, hp, STATUS_OK, Trials\n",
    "from hyperopt.pyll import scope, as_apply\n",
    "\n",
    "space={ 'learning_rate': hp.loguniform('learning_rate', np.log(0.0001), np.log(0.5)) - 0.0001,\n",
    "        'n_estimators': scope.int(hp.quniform('n_estimators', 100, 6000, 200)),\n",
    "        'max_depth': hp.quniform(\"max_depth\", 3, 18, 1),\n",
    "        'colsample_bytree' : hp.uniform('colsample_bytree', 0.5,1),\n",
    "        'min_child_weight' : hp.quniform('min_child_weight', 0, 10, 1),\n",
    "      }\n",
    "\n",
    "def hyperparameter_tuning(space):\n",
    "    model=xgb.XGBRegressor(learning_rate = space['learning_rate'], n_estimators =space['n_estimators'], max_depth = int(space['max_depth']),\n",
    "                         colsample_bytree=space['colsample_bytree'], min_child_weight=int(space['min_child_weight']))\n",
    "    evaluation = [( X_train, y_train), ( X_test, y_test)]\n",
    "    \n",
    "    model.fit(X_train, y_train,verbose=True)\n",
    "\n",
    "    pred = model.predict(X_test)\n",
    "    accuracy = accuracy_score(y_test, pred>0.5)\n",
    "    print (\"SCORE:\", accuracy)\n",
    "    #change the metric if you like\n",
    "    return {'loss': -accuracy, 'status': STATUS_OK, 'model': model}\n",
    "\n",
    "trials = Trials()\n",
    "\n",
    "best = fmin(fn=hyperparameter_tuning,\n",
    "            space=space,\n",
    "            algo=tpe.suggest,\n",
    "            max_evals=1,\n",
    "            trials=trials)\n",
    "\n",
    "\"\"\""
   ]
  },
  {
   "cell_type": "code",
   "execution_count": null,
   "id": "eff68466",
   "metadata": {},
   "outputs": [],
   "source": []
  },
  {
   "cell_type": "code",
   "execution_count": 21,
   "id": "87d8b6a1",
   "metadata": {},
   "outputs": [
    {
     "name": "stdout",
     "output_type": "stream",
     "text": [
      "[09:41:48] WARNING: /opt/concourse/worker/volumes/live/7a2b9f41-3287-451b-6691-43e9a6c0910f/volume/xgboost-split_1619728204606/work/src/learner.cc:541: \n",
      "Parameters: { n_estimators, scale_pos_weight } might not be used.\n",
      "\n",
      "  This may not be accurate due to some parameters are only used in language bindings but\n",
      "  passed down to XGBoost core.  Or some parameters are not used but slip through this\n",
      "  verification. Please open an issue if you find above cases.\n",
      "\n",
      "\n",
      "[09:42:06] WARNING: /opt/concourse/worker/volumes/live/7a2b9f41-3287-451b-6691-43e9a6c0910f/volume/xgboost-split_1619728204606/work/src/learner.cc:1061: Starting in XGBoost 1.3.0, the default evaluation metric used with the objective 'multi:softmax' was changed from 'merror' to 'mlogloss'. Explicitly set eval_metric if you'd like to restore the old behavior.\n",
      "Train time: 205.27044105529785\n"
     ]
    }
   ],
   "source": [
    "#new model with best parameters\n",
    "import time\n",
    "\n",
    "time_start = time.time()\n",
    "\n",
    "params = {\n",
    "    'n_estimators':5000,\n",
    "    'subsample':0.9,\n",
    "    'colsample_bytree':0.61, \n",
    "    'objective': 'multi:softmax',  # error evaluation for multiclass training\n",
    "    'num_class': 10,\n",
    "    'max_depth':36,\n",
    "    'scale_pos_weight':1,\n",
    "    'min_child_weight':4,\n",
    "    'learning_rate':0.5,\n",
    "    'seed':27\n",
    "}\n",
    "bst = xgb.train(params, dtrain)\n",
    "\n",
    "time_end = time.time()\n",
    "train_time = time_end - time_start\n",
    "print(\"Train time:\",train_time)\n",
    "\n"
   ]
  },
  {
   "cell_type": "code",
   "execution_count": 22,
   "id": "ff04ba3d",
   "metadata": {},
   "outputs": [
    {
     "name": "stdout",
     "output_type": "stream",
     "text": [
      "Test time: 0.8189940452575684\n"
     ]
    }
   ],
   "source": [
    "import time\n",
    "time_start = time.time()\n",
    "\n",
    "pred = bst.predict(dtest)\n",
    "\n",
    "time_end = time.time()\n",
    "test_time = time_end - time_start\n",
    "print(\"Test time:\",test_time)"
   ]
  },
  {
   "cell_type": "code",
   "execution_count": 23,
   "id": "a438bd06",
   "metadata": {},
   "outputs": [
    {
     "name": "stdout",
     "output_type": "stream",
     "text": [
      "                precision    recall  f1-score   support\n",
      "\n",
      "      Analysis       0.07      0.31      0.12       803\n",
      "      Backdoor       0.08      0.26      0.12       699\n",
      "           DoS       0.33      0.47      0.39      4906\n",
      "      Exploits       0.75      0.54      0.63     13358\n",
      "       Fuzzers       0.48      0.70      0.57      7274\n",
      "       Generic       1.00      0.98      0.99     64644\n",
      "        Normal       1.00      0.99      0.99    665630\n",
      "Reconnaissance       0.88      0.77      0.82      4196\n",
      "     Shellcode       0.25      0.53      0.34       453\n",
      "         Worms       0.20      0.83      0.33        52\n",
      "\n",
      "      accuracy                           0.97    762015\n",
      "     macro avg       0.50      0.64      0.53    762015\n",
      "  weighted avg       0.98      0.97      0.98    762015\n",
      "\n",
      "acc: 97.3084519333609\n",
      "pre: 98.16524921264127\n",
      "DR=recall: 97.3084519333609\n",
      "f1: 97.65862728457434\n"
     ]
    }
   ],
   "source": [
    "from sklearn import metrics\n",
    "from sklearn.metrics import classification_report\n",
    "\n",
    "target_names = ['Analysis','Backdoor','DoS','Exploits','Fuzzers','Generic','Normal','Reconnaissance','Shellcode','Worms']\n",
    "acc = metrics.accuracy_score(y_test,pred) * 100\n",
    "f1 = metrics.f1_score(y_test, pred,average='weighted')* 100\n",
    "pre = metrics.precision_score(y_test, pred, labels=None, pos_label=1, average='weighted') * 100 #DR\n",
    "recall = metrics.recall_score(y_test, pred, labels=None, pos_label=1, average='weighted', sample_weight=None) * 100\n",
    "\n",
    "print(classification_report(y_test,pred,target_names=target_names))\n",
    "print(\"acc:\",acc)\n",
    "print(\"pre:\",pre)\n",
    "print(\"DR=recall:\",recall)\n",
    "print(\"f1:\",f1)\n"
   ]
  },
  {
   "cell_type": "code",
   "execution_count": 25,
   "id": "1df27e92",
   "metadata": {},
   "outputs": [],
   "source": [
    "from sklearn.metrics import confusion_matrix\n",
    "\n",
    "cm = confusion_matrix(y_test, pred)\n",
    "\n",
    "TP = cm[0][0]\n",
    "FP = cm[0][1]\n",
    "FN = cm[1][0]\n",
    "TN = cm[1][1]\n",
    "\n",
    "FAR = FP / (FP + TN)\n",
    "print(FAR)"
   ]
  },
  {
   "cell_type": "code",
   "execution_count": 27,
   "id": "9b9aec99",
   "metadata": {},
   "outputs": [
    {
     "name": "stdout",
     "output_type": "stream",
     "text": [
      "0.5121293800539084\n"
     ]
    }
   ],
   "source": []
  },
  {
   "cell_type": "code",
   "execution_count": null,
   "id": "2c7e2cff",
   "metadata": {},
   "outputs": [],
   "source": []
  }
 ],
 "metadata": {
  "kernelspec": {
   "display_name": "Python 3",
   "language": "python",
   "name": "python3"
  },
  "language_info": {
   "codemirror_mode": {
    "name": "ipython",
    "version": 3
   },
   "file_extension": ".py",
   "mimetype": "text/x-python",
   "name": "python",
   "nbconvert_exporter": "python",
   "pygments_lexer": "ipython3",
   "version": "3.8.8"
  }
 },
 "nbformat": 4,
 "nbformat_minor": 5
}
