{
 "cells": [
  {
   "cell_type": "code",
   "execution_count": 1,
   "id": "229a362f",
   "metadata": {},
   "outputs": [],
   "source": [
    "import pandas as pd\n",
    "import glob\n",
    "import numpy as np\n",
    "from keras.models import Sequential\n",
    "from keras.layers import Dense, LSTM, BatchNormalization, Dropout\n",
    "from keras.utils import np_utils\n",
    "from sklearn.preprocessing import LabelEncoder\n",
    "from imblearn import under_sampling, over_sampling, combine\n",
    "from imblearn.over_sampling import SMOTE\n",
    "from sklearn.preprocessing import OneHotEncoder\n",
    "from collections import Counter"
   ]
  },
  {
   "cell_type": "code",
   "execution_count": 2,
   "id": "0007ce8f",
   "metadata": {},
   "outputs": [],
   "source": [
    "#reading data\n",
    "\n",
    "path = '/Users/ahmetokanarik/Desktop/MScThesis/Dataset/UNSQ-NB15'\n",
    "all_files = glob.glob(path + \"/*.csv\")\n",
    "li = []\n",
    "\n",
    "for filename in all_files:\n",
    "    df = pd.read_csv(filename,header=None,sep=';',low_memory=False)\n",
    "    li.append(df)\n",
    "\n",
    "\n",
    "data = pd.concat(li, axis=0, ignore_index=True)\n",
    "data.columns = [\"srcip\",\"sport\",\"dstip\",\"dsport\",\"proto\",\"state\",\"dur\",\"sbytes\",\"dbytes\",\"sttl\",\"dttl\",\"sloss\",\"dloss\",\"service\",\"Sload\",\"Dload\",\"Spkts\",\"Dpkts\",\"swin\",\"dwin\",\"stcpb\",\"dtcpb\",\"smeansz\",\"dmeansz\",\"trans_depth\",\"res_bdy_len\",\"Sjit\",\"Djit\",\"Stime\",\"Ltime\",\"Sintpkt\",\"Dintpkt\",\"tcprtt\",\"synack\",\"ackdat\",\"is_sm_ips_ports\",\"ct_state_ttl\",\"ct_flw_http_mthd\",\"is_ftp_login\",\"ct_ftp_cmd\",\"ct_srv_src\",\"ct_srv_dst\",\"ct_dst_ltm\",\"ct_src_ ltm\",\"ct_src_dport_ltm\",\"ct_dst_sport_ltm\",\"ct_dst_src_ltm\",\"attack_cat\",\"Label\"]\n"
   ]
  },
  {
   "cell_type": "code",
   "execution_count": 3,
   "id": "219e00a8",
   "metadata": {},
   "outputs": [],
   "source": [
    "#one-hot encoding\n",
    "dummies = pd.get_dummies(data[['service','proto','state']])\n",
    "data.drop(['proto','service','state'],axis=1,inplace=True)\n",
    "data = pd.concat([data, dummies], axis=1)\n",
    "data = data[[\"dtcpb\",\"stcpb\",\"service_-\",\"Dload\",\"dmeansz\",\"service_dns\",\"smeansz\",\"Sload\",\"trans_depth\",\"sttl\",\n",
    "            \"service_ftp-data\",\"ct_ftp_cmd\",\"attack_cat\"]]\n",
    "\n",
    "data['attack_cat'] = data['attack_cat'].fillna('Normal')"
   ]
  },
  {
   "cell_type": "code",
   "execution_count": 4,
   "id": "80fcbdd7",
   "metadata": {},
   "outputs": [],
   "source": [
    "replace_dict = {np.nan: 0, ' ': 0}\n",
    "for cols in ['ct_ftp_cmd']:\n",
    "    data[cols] = data[cols].replace(replace_dict)\n",
    "    \n",
    "replace_dict = {np.nan: 0, '0': 0}\n",
    "for cols in ['ct_ftp_cmd']:\n",
    "    data[cols] = data[cols].replace(replace_dict)\n",
    "        "
   ]
  },
  {
   "cell_type": "code",
   "execution_count": 5,
   "id": "e32dc166",
   "metadata": {},
   "outputs": [],
   "source": [
    "x = data.drop('attack_cat',axis=1).values.astype('float32')\n",
    "y = data.attack_cat.values"
   ]
  },
  {
   "cell_type": "code",
   "execution_count": 6,
   "id": "2111e866",
   "metadata": {},
   "outputs": [],
   "source": [
    "#Target Variable Label\n",
    "from sklearn.preprocessing import LabelEncoder\n",
    "le = LabelEncoder()\n",
    "y = le.fit_transform(y)"
   ]
  },
  {
   "cell_type": "code",
   "execution_count": 7,
   "id": "da396edc",
   "metadata": {},
   "outputs": [],
   "source": [
    "from sklearn import preprocessing\n",
    "\n",
    "scaler = preprocessing.StandardScaler()\n",
    "x = scaler.fit_transform(x)"
   ]
  },
  {
   "cell_type": "code",
   "execution_count": 8,
   "id": "68b53063",
   "metadata": {},
   "outputs": [
    {
     "data": {
      "text/plain": [
       "(2540047, 12)"
      ]
     },
     "execution_count": 8,
     "metadata": {},
     "output_type": "execute_result"
    }
   ],
   "source": [
    "x.shape"
   ]
  },
  {
   "cell_type": "code",
   "execution_count": 9,
   "id": "47e9f2f1",
   "metadata": {},
   "outputs": [],
   "source": [
    "from sklearn.model_selection import train_test_split\n",
    "\n",
    "X_train, X_test, y_train, y_test = train_test_split(x,y,test_size = 0.3,random_state=40,stratify=y)\n"
   ]
  },
  {
   "cell_type": "code",
   "execution_count": 10,
   "id": "dca60c56",
   "metadata": {},
   "outputs": [
    {
     "name": "stdout",
     "output_type": "stream",
     "text": [
      "[(0, 1874), (1, 1630), (2, 11447), (3, 31167), (4, 16972), (5, 150837), (6, 1553134), (7, 9791), (8, 1058), (9, 122)]\n"
     ]
    }
   ],
   "source": [
    "print(sorted(Counter(y_train).items()))"
   ]
  },
  {
   "cell_type": "code",
   "execution_count": 11,
   "id": "7f797f5a",
   "metadata": {},
   "outputs": [
    {
     "name": "stdout",
     "output_type": "stream",
     "text": [
      "[(0, 177803), (1, 177803), (2, 177803), (3, 177803), (4, 177803), (5, 177803), (6, 1553134), (7, 177803), (8, 177803), (9, 177803)]\n"
     ]
    }
   ],
   "source": [
    "a = 177803 #y-traine göre belirlenmeli.177803\n",
    "smo = SMOTE(sampling_strategy={0:a,1:a,2:a,3:a,4:a,5:a,7:a,8:a,9:a},random_state=42) \n",
    "X_train, y_train = smo.fit_resample(X_train, y_train)   \n",
    "print(sorted(Counter(y_train).items()))"
   ]
  },
  {
   "cell_type": "code",
   "execution_count": 12,
   "id": "dbb7c59c",
   "metadata": {},
   "outputs": [],
   "source": [
    "from imblearn.under_sampling import NearMiss\n",
    "\n",
    "# define the undersampling method\n",
    "undersample = NearMiss(version=1, n_neighbors=3, sampling_strategy={6:a})\n",
    "X_train, y_train = undersample.fit_resample(X_train, y_train)\n"
   ]
  },
  {
   "cell_type": "code",
   "execution_count": 13,
   "id": "a7d82511",
   "metadata": {},
   "outputs": [
    {
     "name": "stdout",
     "output_type": "stream",
     "text": [
      "[(0, 177803), (1, 177803), (2, 177803), (3, 177803), (4, 177803), (5, 177803), (6, 177803), (7, 177803), (8, 177803), (9, 177803)]\n"
     ]
    }
   ],
   "source": [
    "print(sorted(Counter(y_train).items()))"
   ]
  },
  {
   "cell_type": "code",
   "execution_count": 14,
   "id": "0cab6f32",
   "metadata": {},
   "outputs": [],
   "source": [
    "import pandas as pd\n",
    "from pandas.api.types import is_numeric_dtype\n",
    "from sklearn.model_selection import train_test_split\n",
    "import catboost as cb\n",
    "from sklearn.metrics import classification_report\n",
    "import matplotlib.pyplot as plt\n",
    "import seaborn as sns\n",
    "from keras.utils import np_utils\n",
    "from catboost import Pool, CatBoostClassifier"
   ]
  },
  {
   "cell_type": "code",
   "execution_count": 15,
   "id": "912838e2",
   "metadata": {},
   "outputs": [],
   "source": [
    "train_dataset = Pool(data = X_train,\n",
    "                    label=y_train)\n",
    "\n",
    "eval_dataset = Pool(data=X_test,\n",
    "                   label=y_test)"
   ]
  },
  {
   "cell_type": "code",
   "execution_count": 16,
   "id": "4fb4676b",
   "metadata": {},
   "outputs": [
    {
     "data": {
      "text/plain": [
       "\"model = CatBoostClassifier(loss_function='MultiClass',\\n                           objective='MultiClass',\\n                          eval_metric='Accuracy',\\n                          depth=10,\\n                          l2_leaf_reg=1,\\n                          iterations=150,\\n                          learning_rate=0.1)\""
      ]
     },
     "execution_count": 16,
     "metadata": {},
     "output_type": "execute_result"
    }
   ],
   "source": [
    "\"\"\"model = CatBoostClassifier(loss_function='MultiClass',\n",
    "                           objective='MultiClass',\n",
    "                          eval_metric='Accuracy',\n",
    "                          depth=10,\n",
    "                          l2_leaf_reg=1,\n",
    "                          iterations=150,\n",
    "                          learning_rate=0.1)\"\"\""
   ]
  },
  {
   "cell_type": "code",
   "execution_count": 17,
   "id": "9f44c5d2",
   "metadata": {},
   "outputs": [
    {
     "data": {
      "text/plain": [
       "'import time\\n\\ntime_start = time.time()\\n\\nmodel.fit(train_dataset)\\n\\ntime_end = time.time()\\ntrain_time = time_end - time_start\\nprint(\"Train time:\",train_time)\\n'"
      ]
     },
     "execution_count": 17,
     "metadata": {},
     "output_type": "execute_result"
    }
   ],
   "source": [
    "\"\"\"import time\n",
    "\n",
    "time_start = time.time()\n",
    "\n",
    "model.fit(train_dataset)\n",
    "\n",
    "time_end = time.time()\n",
    "train_time = time_end - time_start\n",
    "print(\"Train time:\",train_time)\n",
    "\"\"\""
   ]
  },
  {
   "cell_type": "code",
   "execution_count": 18,
   "id": "b8994ea4",
   "metadata": {},
   "outputs": [
    {
     "data": {
      "text/plain": [
       "'import time\\ntime_start = time.time()\\n\\npred = model.predict(X_test)\\n\\ntime_end = time.time()\\ntest_time = time_end - time_start\\nprint(\"test_time:\",test_time)'"
      ]
     },
     "execution_count": 18,
     "metadata": {},
     "output_type": "execute_result"
    }
   ],
   "source": [
    "\"\"\"import time\n",
    "time_start = time.time()\n",
    "\n",
    "pred = model.predict(X_test)\n",
    "\n",
    "time_end = time.time()\n",
    "test_time = time_end - time_start\n",
    "print(\"test_time:\",test_time)\"\"\""
   ]
  },
  {
   "cell_type": "code",
   "execution_count": 19,
   "id": "e20aeb9a",
   "metadata": {},
   "outputs": [
    {
     "data": {
      "text/plain": [
       "'from sklearn import metrics\\nfrom sklearn.metrics import classification_report\\n\\ntarget_names = [\\'Analysis\\',\\'Backdoor\\',\\'DoS\\',\\'Exploits\\',\\'Fuzzers\\',\\'Generic\\',\\'Normal\\',\\'Reconnaissance\\',\\'Shellcode\\',\\'Worms\\']\\nacc = metrics.accuracy_score(y_test,pred) * 100\\nf1 = metrics.f1_score(y_test, pred,average=\\'weighted\\')* 100\\npre = metrics.precision_score(y_test, pred, labels=None, pos_label=1, average=\\'weighted\\') * 100 #DR\\nrecall = metrics.recall_score(y_test, pred, labels=None, pos_label=1, average=\\'weighted\\', sample_weight=None) * 100\\n\\nprint(classification_report(y_test,pred,target_names=target_names))\\nprint(\"acc:\",acc)\\nprint(\"pre:\",pre)\\nprint(\"DR=recall:\",recall)\\nprint(\"f1:\",f1)\\n'"
      ]
     },
     "execution_count": 19,
     "metadata": {},
     "output_type": "execute_result"
    }
   ],
   "source": [
    "\"\"\"from sklearn import metrics\n",
    "from sklearn.metrics import classification_report\n",
    "\n",
    "target_names = ['Analysis','Backdoor','DoS','Exploits','Fuzzers','Generic','Normal','Reconnaissance','Shellcode','Worms']\n",
    "acc = metrics.accuracy_score(y_test,pred) * 100\n",
    "f1 = metrics.f1_score(y_test, pred,average='weighted')* 100\n",
    "pre = metrics.precision_score(y_test, pred, labels=None, pos_label=1, average='weighted') * 100 #DR\n",
    "recall = metrics.recall_score(y_test, pred, labels=None, pos_label=1, average='weighted', sample_weight=None) * 100\n",
    "\n",
    "print(classification_report(y_test,pred,target_names=target_names))\n",
    "print(\"acc:\",acc)\n",
    "print(\"pre:\",pre)\n",
    "print(\"DR=recall:\",recall)\n",
    "print(\"f1:\",f1)\n",
    "\"\"\""
   ]
  },
  {
   "cell_type": "code",
   "execution_count": null,
   "id": "9831415f",
   "metadata": {},
   "outputs": [],
   "source": []
  },
  {
   "cell_type": "code",
   "execution_count": 20,
   "id": "4c8b94fe",
   "metadata": {},
   "outputs": [
    {
     "data": {
      "text/plain": [
       "'import hyperopt\\nfrom hyperopt import fmin, tpe, hp, STATUS_OK, Trials\\nfrom hyperopt.pyll import scope, as_apply\\n\\nspace={ \\'depth\\': scope.int(hp.uniform(\\'depth\\', 1, 11)),\\n        \\'l2_leaf_reg\\': scope.int(hp.uniform(\\'l2_leaf_reg\\', 1, 11)),\\n        \\'learning_rate\\': hp.loguniform(\\'learning_rate\\', np.log(0.0001), np.log(0.5)) - 0.0001,\\n        \\'min_child_samples\\' : scope.int(hp.loguniform(\"min_child_samples\", np.log(1), np.log(100))),#\\n        \\'colsample_bylevel\\' : hp.uniform(\\'colsample_bylevel\\', 0.5,1),\\n      }\\n\\n# Classifier:\\ndef hyperparameter_tuning(space):\\n    model = CatBoostClassifier(objective=\\'MultiClass\\',\\n                              depth = space[\\'depth\\'],\\n                              l2_leaf_reg=space[\\'l2_leaf_reg\\'],\\n                              learning_rate=space[\\'learning_rate\\'],\\n                              min_child_samples=space[\\'min_child_samples\\'],\\n                              colsample_bylevel=space[\\'colsample_bylevel\\'])\\n    \\n    evaluation = [( X_train, y_train), ( X_test, y_test)]\\n    \\n    model.fit(X_train, y_train,verbose=True)\\n\\n    pred = model.predict(X_test)\\n    accuracy = accuracy_score(y_test, pred>0.5)\\n    print (\"SCORE:\", accuracy)\\n    #change the metric if you like\\n    return {\\'loss\\': -accuracy, \\'status\\': STATUS_OK, \\'model\\': model}'"
      ]
     },
     "execution_count": 20,
     "metadata": {},
     "output_type": "execute_result"
    }
   ],
   "source": [
    "\"\"\"import hyperopt\n",
    "from hyperopt import fmin, tpe, hp, STATUS_OK, Trials\n",
    "from hyperopt.pyll import scope, as_apply\n",
    "\n",
    "space={ 'depth': scope.int(hp.uniform('depth', 1, 11)),\n",
    "        'l2_leaf_reg': scope.int(hp.uniform('l2_leaf_reg', 1, 11)),\n",
    "        'learning_rate': hp.loguniform('learning_rate', np.log(0.0001), np.log(0.5)) - 0.0001,\n",
    "        'min_child_samples' : scope.int(hp.loguniform(\"min_child_samples\", np.log(1), np.log(100))),#\n",
    "        'colsample_bylevel' : hp.uniform('colsample_bylevel', 0.5,1),\n",
    "      }\n",
    "\n",
    "# Classifier:\n",
    "def hyperparameter_tuning(space):\n",
    "    model = CatBoostClassifier(objective='MultiClass',\n",
    "                              depth = space['depth'],\n",
    "                              l2_leaf_reg=space['l2_leaf_reg'],\n",
    "                              learning_rate=space['learning_rate'],\n",
    "                              min_child_samples=space['min_child_samples'],\n",
    "                              colsample_bylevel=space['colsample_bylevel'])\n",
    "    \n",
    "    evaluation = [( X_train, y_train), ( X_test, y_test)]\n",
    "    \n",
    "    model.fit(X_train, y_train,verbose=True)\n",
    "\n",
    "    pred = model.predict(X_test)\n",
    "    accuracy = accuracy_score(y_test, pred>0.5)\n",
    "    print (\"SCORE:\", accuracy)\n",
    "    #change the metric if you like\n",
    "    return {'loss': -accuracy, 'status': STATUS_OK, 'model': model}\"\"\""
   ]
  },
  {
   "cell_type": "code",
   "execution_count": 21,
   "id": "29f4d5f8",
   "metadata": {},
   "outputs": [
    {
     "data": {
      "text/plain": [
       "'from sklearn.metrics import accuracy_score\\n\\ntrials = Trials()\\nbest = fmin(fn=hyperparameter_tuning,\\n            space=space,\\n            algo=tpe.suggest,\\n            max_evals = 1,\\n            trials=trials)'"
      ]
     },
     "execution_count": 21,
     "metadata": {},
     "output_type": "execute_result"
    }
   ],
   "source": [
    "\"\"\"from sklearn.metrics import accuracy_score\n",
    "\n",
    "trials = Trials()\n",
    "best = fmin(fn=hyperparameter_tuning,\n",
    "            space=space,\n",
    "            algo=tpe.suggest,\n",
    "            max_evals = 1,\n",
    "            trials=trials)\"\"\""
   ]
  },
  {
   "cell_type": "code",
   "execution_count": 22,
   "id": "36ab79f0",
   "metadata": {},
   "outputs": [
    {
     "ename": "NameError",
     "evalue": "name 'best' is not defined",
     "output_type": "error",
     "traceback": [
      "\u001b[0;31m---------------------------------------------------------------------------\u001b[0m",
      "\u001b[0;31mNameError\u001b[0m                                 Traceback (most recent call last)",
      "\u001b[0;32m<ipython-input-22-3acd3477e223>\u001b[0m in \u001b[0;36m<module>\u001b[0;34m\u001b[0m\n\u001b[0;32m----> 1\u001b[0;31m \u001b[0mprint\u001b[0m\u001b[0;34m(\u001b[0m\u001b[0mbest\u001b[0m\u001b[0;34m)\u001b[0m\u001b[0;34m\u001b[0m\u001b[0;34m\u001b[0m\u001b[0m\n\u001b[0m",
      "\u001b[0;31mNameError\u001b[0m: name 'best' is not defined"
     ]
    }
   ],
   "source": [
    "print(best)"
   ]
  },
  {
   "cell_type": "code",
   "execution_count": null,
   "id": "0ddfe26f",
   "metadata": {},
   "outputs": [],
   "source": []
  },
  {
   "cell_type": "code",
   "execution_count": null,
   "id": "d1e14d5b",
   "metadata": {},
   "outputs": [],
   "source": []
  },
  {
   "cell_type": "code",
   "execution_count": null,
   "id": "36e0333f",
   "metadata": {},
   "outputs": [],
   "source": [
    "#new model with best parameters"
   ]
  },
  {
   "cell_type": "code",
   "execution_count": 23,
   "id": "90ed55f4",
   "metadata": {},
   "outputs": [],
   "source": [
    "model = CatBoostClassifier(loss_function='MultiClass',\n",
    "                           objective='MultiClass',\n",
    "                          eval_metric='Accuracy',\n",
    "                          depth=6,\n",
    "                          l2_leaf_reg=4,\n",
    "                          iterations=150,\n",
    "                          learning_rate=0.05,\n",
    "                          colsample_bylevel=0.93,\n",
    "                          min_child_samples=6)"
   ]
  },
  {
   "cell_type": "code",
   "execution_count": 24,
   "id": "f4bf377e",
   "metadata": {},
   "outputs": [
    {
     "name": "stdout",
     "output_type": "stream",
     "text": [
      "0:\tlearn: 0.5087237\ttotal: 1.12s\tremaining: 2m 47s\n",
      "1:\tlearn: 0.5793581\ttotal: 2.17s\tremaining: 2m 40s\n",
      "2:\tlearn: 0.5774278\ttotal: 3.29s\tremaining: 2m 41s\n",
      "3:\tlearn: 0.5968184\ttotal: 4.22s\tremaining: 2m 34s\n",
      "4:\tlearn: 0.5935670\ttotal: 5.25s\tremaining: 2m 32s\n",
      "5:\tlearn: 0.5914490\ttotal: 6.3s\tremaining: 2m 31s\n",
      "6:\tlearn: 0.6080915\ttotal: 7.21s\tremaining: 2m 27s\n",
      "7:\tlearn: 0.6047564\ttotal: 8.19s\tremaining: 2m 25s\n",
      "8:\tlearn: 0.6063559\ttotal: 9.23s\tremaining: 2m 24s\n",
      "9:\tlearn: 0.6026878\ttotal: 10.2s\tremaining: 2m 22s\n",
      "10:\tlearn: 0.5933443\ttotal: 11.2s\tremaining: 2m 21s\n",
      "11:\tlearn: 0.6057389\ttotal: 12.2s\tremaining: 2m 20s\n",
      "12:\tlearn: 0.6020112\ttotal: 13.2s\tremaining: 2m 18s\n",
      "13:\tlearn: 0.6100988\ttotal: 14.2s\tremaining: 2m 17s\n",
      "14:\tlearn: 0.6118457\ttotal: 15.2s\tremaining: 2m 16s\n",
      "15:\tlearn: 0.6118839\ttotal: 16.2s\tremaining: 2m 15s\n",
      "16:\tlearn: 0.6120251\ttotal: 17.2s\tremaining: 2m 14s\n",
      "17:\tlearn: 0.6118294\ttotal: 18.3s\tremaining: 2m 14s\n",
      "18:\tlearn: 0.6208664\ttotal: 19.2s\tremaining: 2m 12s\n",
      "19:\tlearn: 0.6269366\ttotal: 20.4s\tremaining: 2m 12s\n",
      "20:\tlearn: 0.6266132\ttotal: 21.5s\tremaining: 2m 11s\n",
      "21:\tlearn: 0.6266368\ttotal: 22.6s\tremaining: 2m 11s\n",
      "22:\tlearn: 0.6270805\ttotal: 23.6s\tremaining: 2m 10s\n",
      "23:\tlearn: 0.6268556\ttotal: 24.6s\tremaining: 2m 9s\n",
      "24:\tlearn: 0.6268612\ttotal: 25.6s\tremaining: 2m 7s\n",
      "25:\tlearn: 0.6269591\ttotal: 26.6s\tremaining: 2m 6s\n",
      "26:\tlearn: 0.6237088\ttotal: 27.6s\tremaining: 2m 5s\n",
      "27:\tlearn: 0.6237499\ttotal: 28.7s\tremaining: 2m 5s\n",
      "28:\tlearn: 0.6241818\ttotal: 29.7s\tremaining: 2m 4s\n",
      "29:\tlearn: 0.6247690\ttotal: 30.7s\tremaining: 2m 2s\n",
      "30:\tlearn: 0.6249940\ttotal: 31.8s\tremaining: 2m 2s\n",
      "31:\tlearn: 0.6250609\ttotal: 32.9s\tremaining: 2m 1s\n",
      "32:\tlearn: 0.6278629\ttotal: 33.9s\tremaining: 2m\n",
      "33:\tlearn: 0.6279613\ttotal: 35s\tremaining: 1m 59s\n",
      "34:\tlearn: 0.6280906\ttotal: 36.1s\tremaining: 1m 58s\n",
      "35:\tlearn: 0.6284045\ttotal: 37.1s\tremaining: 1m 57s\n",
      "36:\tlearn: 0.6286463\ttotal: 38.1s\tremaining: 1m 56s\n",
      "37:\tlearn: 0.6284579\ttotal: 39.2s\tremaining: 1m 55s\n",
      "38:\tlearn: 0.6286255\ttotal: 40.2s\tremaining: 1m 54s\n",
      "39:\tlearn: 0.6286772\ttotal: 41.2s\tremaining: 1m 53s\n",
      "40:\tlearn: 0.6286339\ttotal: 42.3s\tremaining: 1m 52s\n",
      "41:\tlearn: 0.6288044\ttotal: 43.3s\tremaining: 1m 51s\n",
      "42:\tlearn: 0.6291649\ttotal: 44.4s\tremaining: 1m 50s\n",
      "43:\tlearn: 0.6291570\ttotal: 45.5s\tremaining: 1m 49s\n",
      "44:\tlearn: 0.6293218\ttotal: 46.5s\tremaining: 1m 48s\n",
      "45:\tlearn: 0.6355213\ttotal: 47.5s\tremaining: 1m 47s\n",
      "46:\tlearn: 0.6356349\ttotal: 48.6s\tremaining: 1m 46s\n",
      "47:\tlearn: 0.6365821\ttotal: 49.7s\tremaining: 1m 45s\n",
      "48:\tlearn: 0.6370792\ttotal: 50.7s\tremaining: 1m 44s\n",
      "49:\tlearn: 0.6368059\ttotal: 51.8s\tremaining: 1m 43s\n",
      "50:\tlearn: 0.6375601\ttotal: 52.8s\tremaining: 1m 42s\n",
      "51:\tlearn: 0.6375101\ttotal: 53.9s\tremaining: 1m 41s\n",
      "52:\tlearn: 0.6378824\ttotal: 55s\tremaining: 1m 40s\n",
      "53:\tlearn: 0.6380027\ttotal: 56s\tremaining: 1m 39s\n",
      "54:\tlearn: 0.6388897\ttotal: 57.1s\tremaining: 1m 38s\n",
      "55:\tlearn: 0.6398818\ttotal: 58.2s\tremaining: 1m 37s\n",
      "56:\tlearn: 0.6402029\ttotal: 59.4s\tremaining: 1m 36s\n",
      "57:\tlearn: 0.6405488\ttotal: 1m\tremaining: 1m 36s\n",
      "58:\tlearn: 0.6412732\ttotal: 1m 1s\tremaining: 1m 35s\n",
      "59:\tlearn: 0.6430100\ttotal: 1m 2s\tremaining: 1m 34s\n",
      "60:\tlearn: 0.6427501\ttotal: 1m 3s\tremaining: 1m 33s\n",
      "61:\tlearn: 0.6434425\ttotal: 1m 4s\tremaining: 1m 32s\n",
      "62:\tlearn: 0.6432332\ttotal: 1m 5s\tremaining: 1m 30s\n",
      "63:\tlearn: 0.6434250\ttotal: 1m 6s\tremaining: 1m 29s\n",
      "64:\tlearn: 0.6442355\ttotal: 1m 8s\tremaining: 1m 29s\n",
      "65:\tlearn: 0.6449132\ttotal: 1m 9s\tremaining: 1m 28s\n",
      "66:\tlearn: 0.6452872\ttotal: 1m 10s\tremaining: 1m 27s\n",
      "67:\tlearn: 0.6459542\ttotal: 1m 11s\tremaining: 1m 26s\n",
      "68:\tlearn: 0.6463496\ttotal: 1m 12s\tremaining: 1m 24s\n",
      "69:\tlearn: 0.6497140\ttotal: 1m 13s\tremaining: 1m 23s\n",
      "70:\tlearn: 0.6499783\ttotal: 1m 14s\tremaining: 1m 22s\n",
      "71:\tlearn: 0.6501049\ttotal: 1m 15s\tremaining: 1m 21s\n",
      "72:\tlearn: 0.6504581\ttotal: 1m 16s\tremaining: 1m 20s\n",
      "73:\tlearn: 0.6506313\ttotal: 1m 17s\tremaining: 1m 19s\n",
      "74:\tlearn: 0.6505081\ttotal: 1m 18s\tremaining: 1m 18s\n",
      "75:\tlearn: 0.6512207\ttotal: 1m 19s\tremaining: 1m 17s\n",
      "76:\tlearn: 0.6512230\ttotal: 1m 20s\tremaining: 1m 16s\n",
      "77:\tlearn: 0.6520059\ttotal: 1m 21s\tremaining: 1m 15s\n",
      "78:\tlearn: 0.6524327\ttotal: 1m 23s\tremaining: 1m 14s\n",
      "79:\tlearn: 0.6552291\ttotal: 1m 24s\tremaining: 1m 13s\n",
      "80:\tlearn: 0.6554035\ttotal: 1m 25s\tremaining: 1m 12s\n",
      "81:\tlearn: 0.6552758\ttotal: 1m 26s\tremaining: 1m 11s\n",
      "82:\tlearn: 0.6557949\ttotal: 1m 27s\tremaining: 1m 10s\n",
      "83:\tlearn: 0.6562178\ttotal: 1m 28s\tremaining: 1m 9s\n",
      "84:\tlearn: 0.6565047\ttotal: 1m 29s\tremaining: 1m 8s\n",
      "85:\tlearn: 0.6569136\ttotal: 1m 30s\tremaining: 1m 7s\n",
      "86:\tlearn: 0.6569293\ttotal: 1m 31s\tremaining: 1m 6s\n",
      "87:\tlearn: 0.6567831\ttotal: 1m 32s\tremaining: 1m 5s\n",
      "88:\tlearn: 0.6568837\ttotal: 1m 33s\tremaining: 1m 4s\n",
      "89:\tlearn: 0.6568596\ttotal: 1m 34s\tremaining: 1m 3s\n",
      "90:\tlearn: 0.6574203\ttotal: 1m 35s\tremaining: 1m 2s\n",
      "91:\tlearn: 0.6577021\ttotal: 1m 37s\tremaining: 1m 1s\n",
      "92:\tlearn: 0.6614978\ttotal: 1m 38s\tremaining: 1m\n",
      "93:\tlearn: 0.6619562\ttotal: 1m 39s\tremaining: 59.1s\n",
      "94:\tlearn: 0.6626660\ttotal: 1m 40s\tremaining: 58.1s\n",
      "95:\tlearn: 0.6631069\ttotal: 1m 41s\tremaining: 57.1s\n",
      "96:\tlearn: 0.6637160\ttotal: 1m 42s\tremaining: 56s\n",
      "97:\tlearn: 0.6638684\ttotal: 1m 43s\tremaining: 54.9s\n",
      "98:\tlearn: 0.6638713\ttotal: 1m 44s\tremaining: 53.9s\n",
      "99:\tlearn: 0.6651598\ttotal: 1m 45s\tremaining: 52.8s\n",
      "100:\tlearn: 0.6654421\ttotal: 1m 46s\tremaining: 51.8s\n",
      "101:\tlearn: 0.6657199\ttotal: 1m 47s\tremaining: 50.8s\n",
      "102:\tlearn: 0.6656952\ttotal: 1m 48s\tremaining: 49.7s\n",
      "103:\tlearn: 0.6658009\ttotal: 1m 49s\tremaining: 48.6s\n",
      "104:\tlearn: 0.6648718\ttotal: 1m 51s\tremaining: 47.6s\n",
      "105:\tlearn: 0.6670079\ttotal: 1m 52s\tremaining: 46.6s\n",
      "106:\tlearn: 0.6671310\ttotal: 1m 53s\tremaining: 45.5s\n",
      "107:\tlearn: 0.6663886\ttotal: 1m 54s\tremaining: 44.4s\n",
      "108:\tlearn: 0.6665292\ttotal: 1m 55s\tremaining: 43.4s\n",
      "109:\tlearn: 0.6679280\ttotal: 1m 56s\tremaining: 42.3s\n",
      "110:\tlearn: 0.6687429\ttotal: 1m 57s\tremaining: 41.2s\n",
      "111:\tlearn: 0.6702064\ttotal: 1m 58s\tremaining: 40.2s\n",
      "112:\tlearn: 0.6702294\ttotal: 1m 59s\tremaining: 39.1s\n",
      "113:\tlearn: 0.6702215\ttotal: 2m\tremaining: 38.1s\n",
      "114:\tlearn: 0.6709724\ttotal: 2m 1s\tremaining: 37s\n",
      "115:\tlearn: 0.6721214\ttotal: 2m 2s\tremaining: 36s\n",
      "116:\tlearn: 0.6715803\ttotal: 2m 3s\tremaining: 34.9s\n",
      "117:\tlearn: 0.6717041\ttotal: 2m 4s\tremaining: 33.8s\n",
      "118:\tlearn: 0.6717536\ttotal: 2m 5s\tremaining: 32.8s\n",
      "119:\tlearn: 0.6728081\ttotal: 2m 6s\tremaining: 31.7s\n",
      "120:\tlearn: 0.6730376\ttotal: 2m 7s\tremaining: 30.7s\n",
      "121:\tlearn: 0.6733435\ttotal: 2m 8s\tremaining: 29.6s\n",
      "122:\tlearn: 0.6736022\ttotal: 2m 9s\tremaining: 28.5s\n",
      "123:\tlearn: 0.6742260\ttotal: 2m 11s\tremaining: 27.5s\n",
      "124:\tlearn: 0.6753098\ttotal: 2m 12s\tremaining: 26.4s\n",
      "125:\tlearn: 0.6758969\ttotal: 2m 13s\tremaining: 25.4s\n",
      "126:\tlearn: 0.6754987\ttotal: 2m 14s\tremaining: 24.3s\n",
      "127:\tlearn: 0.6753182\ttotal: 2m 15s\tremaining: 23.3s\n",
      "128:\tlearn: 0.6754965\ttotal: 2m 16s\tremaining: 22.2s\n",
      "129:\tlearn: 0.6758862\ttotal: 2m 17s\tremaining: 21.2s\n",
      "130:\tlearn: 0.6759650\ttotal: 2m 18s\tremaining: 20.1s\n",
      "131:\tlearn: 0.6767023\ttotal: 2m 19s\tremaining: 19s\n",
      "132:\tlearn: 0.6766629\ttotal: 2m 20s\tremaining: 18s\n",
      "133:\tlearn: 0.6769908\ttotal: 2m 21s\tremaining: 16.9s\n",
      "134:\tlearn: 0.6772490\ttotal: 2m 22s\tremaining: 15.9s\n",
      "135:\tlearn: 0.6773575\ttotal: 2m 23s\tremaining: 14.8s\n",
      "136:\tlearn: 0.6778924\ttotal: 2m 24s\tremaining: 13.7s\n",
      "137:\tlearn: 0.6782259\ttotal: 2m 25s\tremaining: 12.7s\n",
      "138:\tlearn: 0.6784357\ttotal: 2m 27s\tremaining: 11.6s\n",
      "139:\tlearn: 0.6783704\ttotal: 2m 28s\tremaining: 10.6s\n",
      "140:\tlearn: 0.6787726\ttotal: 2m 29s\tremaining: 9.52s\n",
      "141:\tlearn: 0.6788710\ttotal: 2m 30s\tremaining: 8.46s\n",
      "142:\tlearn: 0.6795048\ttotal: 2m 31s\tremaining: 7.41s\n",
      "143:\tlearn: 0.6788541\ttotal: 2m 32s\tremaining: 6.35s\n",
      "144:\tlearn: 0.6791022\ttotal: 2m 33s\tremaining: 5.29s\n",
      "145:\tlearn: 0.6790763\ttotal: 2m 34s\tremaining: 4.23s\n",
      "146:\tlearn: 0.6793007\ttotal: 2m 35s\tremaining: 3.17s\n",
      "147:\tlearn: 0.6798344\ttotal: 2m 36s\tremaining: 2.11s\n",
      "148:\tlearn: 0.6799205\ttotal: 2m 37s\tremaining: 1.06s\n",
      "149:\tlearn: 0.6802664\ttotal: 2m 38s\tremaining: 0us\n",
      "Train time: 159.19710183143616\n"
     ]
    }
   ],
   "source": [
    "import time\n",
    "\n",
    "time_start = time.time()\n",
    "\n",
    "model.fit(train_dataset)\n",
    "\n",
    "time_end = time.time()\n",
    "train_time = time_end - time_start\n",
    "print(\"Train time:\",train_time)"
   ]
  },
  {
   "cell_type": "code",
   "execution_count": 25,
   "id": "ff31b8ed",
   "metadata": {},
   "outputs": [
    {
     "name": "stdout",
     "output_type": "stream",
     "text": [
      "test_time: 0.9364700317382812\n"
     ]
    }
   ],
   "source": [
    "import time\n",
    "time_start = time.time()\n",
    "\n",
    "pred = model.predict(X_test)\n",
    "\n",
    "time_end = time.time()\n",
    "test_time = time_end - time_start\n",
    "print(\"test_time:\",test_time)"
   ]
  },
  {
   "cell_type": "code",
   "execution_count": 26,
   "id": "d0b6cd91",
   "metadata": {},
   "outputs": [
    {
     "name": "stdout",
     "output_type": "stream",
     "text": [
      "                precision    recall  f1-score   support\n",
      "\n",
      "      Analysis       0.06      0.76      0.11       803\n",
      "      Backdoor       0.07      0.29      0.12       699\n",
      "           DoS       0.00      0.04      0.01      4906\n",
      "      Exploits       0.08      0.42      0.13     13358\n",
      "       Fuzzers       0.37      0.67      0.48      7274\n",
      "       Generic       1.00      0.97      0.99     64644\n",
      "        Normal       1.00      0.80      0.89    665630\n",
      "Reconnaissance       0.77      0.82      0.80      4196\n",
      "     Shellcode       0.09      0.82      0.16       453\n",
      "         Worms       0.05      0.87      0.10        52\n",
      "\n",
      "      accuracy                           0.80    762015\n",
      "     macro avg       0.35      0.65      0.38    762015\n",
      "  weighted avg       0.97      0.80      0.87    762015\n",
      "\n",
      "acc: 79.75551662368851\n",
      "pre: 96.75901728440535\n",
      "DR=recall: 79.75551662368851\n",
      "f1: 86.93129339627018\n"
     ]
    }
   ],
   "source": [
    "from sklearn import metrics\n",
    "from sklearn.metrics import classification_report\n",
    "\n",
    "target_names = ['Analysis','Backdoor','DoS','Exploits','Fuzzers','Generic','Normal','Reconnaissance','Shellcode','Worms']\n",
    "acc = metrics.accuracy_score(y_test,pred) * 100\n",
    "f1 = metrics.f1_score(y_test, pred,average='weighted')* 100\n",
    "pre = metrics.precision_score(y_test, pred, labels=None, pos_label=1, average='weighted') * 100 #DR\n",
    "recall = metrics.recall_score(y_test, pred, labels=None, pos_label=1, average='weighted', sample_weight=None) * 100\n",
    "\n",
    "print(classification_report(y_test,pred,target_names=target_names))\n",
    "print(\"acc:\",acc)\n",
    "print(\"pre:\",pre)\n",
    "print(\"DR=recall:\",recall)\n",
    "print(\"f1:\",f1)\n"
   ]
  },
  {
   "cell_type": "code",
   "execution_count": 27,
   "id": "366a6a90",
   "metadata": {},
   "outputs": [
    {
     "name": "stdout",
     "output_type": "stream",
     "text": [
      "0.4521276595744681\n"
     ]
    }
   ],
   "source": [
    "from sklearn.metrics import confusion_matrix\n",
    "\n",
    "cm = confusion_matrix(y_test, pred)\n",
    "\n",
    "TP = cm[0][0]\n",
    "FP = cm[0][1]\n",
    "FN = cm[1][0]\n",
    "TN = cm[1][1]\n",
    "\n",
    "FAR = FP / (FP + TN)\n",
    "print(FAR)"
   ]
  },
  {
   "cell_type": "code",
   "execution_count": null,
   "id": "5e04be53",
   "metadata": {},
   "outputs": [],
   "source": []
  },
  {
   "cell_type": "code",
   "execution_count": null,
   "id": "e7b7e9fd",
   "metadata": {},
   "outputs": [],
   "source": []
  },
  {
   "cell_type": "code",
   "execution_count": null,
   "id": "b8296ab1",
   "metadata": {},
   "outputs": [],
   "source": []
  },
  {
   "cell_type": "code",
   "execution_count": null,
   "id": "cb95a1a1",
   "metadata": {},
   "outputs": [],
   "source": []
  },
  {
   "cell_type": "code",
   "execution_count": null,
   "id": "580c5ea3",
   "metadata": {},
   "outputs": [],
   "source": []
  },
  {
   "cell_type": "code",
   "execution_count": null,
   "id": "c5c75661",
   "metadata": {},
   "outputs": [],
   "source": []
  },
  {
   "cell_type": "code",
   "execution_count": null,
   "id": "87d8b6a1",
   "metadata": {},
   "outputs": [],
   "source": []
  },
  {
   "cell_type": "code",
   "execution_count": null,
   "id": "ff04ba3d",
   "metadata": {},
   "outputs": [],
   "source": []
  },
  {
   "cell_type": "code",
   "execution_count": null,
   "id": "028dc6c6",
   "metadata": {},
   "outputs": [],
   "source": []
  },
  {
   "cell_type": "code",
   "execution_count": null,
   "id": "2c7e2cff",
   "metadata": {},
   "outputs": [],
   "source": []
  },
  {
   "cell_type": "code",
   "execution_count": null,
   "id": "db1359a6",
   "metadata": {},
   "outputs": [],
   "source": []
  },
  {
   "cell_type": "code",
   "execution_count": null,
   "id": "8a8b388b",
   "metadata": {},
   "outputs": [],
   "source": []
  }
 ],
 "metadata": {
  "kernelspec": {
   "display_name": "Python 3",
   "language": "python",
   "name": "python3"
  },
  "language_info": {
   "codemirror_mode": {
    "name": "ipython",
    "version": 3
   },
   "file_extension": ".py",
   "mimetype": "text/x-python",
   "name": "python",
   "nbconvert_exporter": "python",
   "pygments_lexer": "ipython3",
   "version": "3.8.8"
  }
 },
 "nbformat": 4,
 "nbformat_minor": 5
}
