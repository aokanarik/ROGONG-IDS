{
 "cells": [
  {
   "cell_type": "code",
   "execution_count": 1,
   "id": "229a362f",
   "metadata": {},
   "outputs": [],
   "source": [
    "import pandas as pd\n",
    "import glob\n",
    "import numpy as np\n",
    "from keras.models import Sequential\n",
    "from keras.layers import Dense, LSTM, BatchNormalization, Dropout\n",
    "from keras.utils import np_utils\n",
    "from sklearn.preprocessing import LabelEncoder\n",
    "from imblearn import under_sampling, over_sampling, combine\n",
    "from imblearn.over_sampling import SMOTE\n",
    "from sklearn.preprocessing import OneHotEncoder\n",
    "from collections import Counter"
   ]
  },
  {
   "cell_type": "code",
   "execution_count": 2,
   "id": "0007ce8f",
   "metadata": {},
   "outputs": [],
   "source": [
    "#reading data\n",
    "\n",
    "path = '/Users/ahmetokanarik/Desktop/MScThesis/Dataset/UNSQ-NB15'\n",
    "all_files = glob.glob(path + \"/*.csv\")\n",
    "li = []\n",
    "\n",
    "for filename in all_files:\n",
    "    df = pd.read_csv(filename,header=None,sep=';',low_memory=False)\n",
    "    li.append(df)\n",
    "\n",
    "\n",
    "data = pd.concat(li, axis=0, ignore_index=True)\n",
    "data.columns = [\"srcip\",\"sport\",\"dstip\",\"dsport\",\"proto\",\"state\",\"dur\",\"sbytes\",\"dbytes\",\"sttl\",\"dttl\",\"sloss\",\"dloss\",\"service\",\"Sload\",\"Dload\",\"Spkts\",\"Dpkts\",\"swin\",\"dwin\",\"stcpb\",\"dtcpb\",\"smeansz\",\"dmeansz\",\"trans_depth\",\"res_bdy_len\",\"Sjit\",\"Djit\",\"Stime\",\"Ltime\",\"Sintpkt\",\"Dintpkt\",\"tcprtt\",\"synack\",\"ackdat\",\"is_sm_ips_ports\",\"ct_state_ttl\",\"ct_flw_http_mthd\",\"is_ftp_login\",\"ct_ftp_cmd\",\"ct_srv_src\",\"ct_srv_dst\",\"ct_dst_ltm\",\"ct_src_ ltm\",\"ct_src_dport_ltm\",\"ct_dst_sport_ltm\",\"ct_dst_src_ltm\",\"attack_cat\",\"Label\"]\n"
   ]
  },
  {
   "cell_type": "code",
   "execution_count": 3,
   "id": "219e00a8",
   "metadata": {},
   "outputs": [],
   "source": [
    "#one-hot encoding\n",
    "dummies = pd.get_dummies(data[['service','proto','state']])\n",
    "data.drop(['proto','service','state'],axis=1,inplace=True)\n",
    "data = pd.concat([data, dummies], axis=1)\n",
    "data = data[[\"dtcpb\",\"stcpb\",\"service_-\",\"Dload\",\"dmeansz\",\"service_dns\",\"smeansz\",\"Sload\",\"trans_depth\",\"sttl\",\n",
    "            \"service_ftp-data\",\"ct_ftp_cmd\",\"attack_cat\"]]\n",
    "\n",
    "data['attack_cat'] = data['attack_cat'].fillna('Normal')"
   ]
  },
  {
   "cell_type": "code",
   "execution_count": 4,
   "id": "80fcbdd7",
   "metadata": {},
   "outputs": [],
   "source": [
    "replace_dict = {np.nan: 0, ' ': 0}\n",
    "for cols in ['ct_ftp_cmd']:\n",
    "    data[cols] = data[cols].replace(replace_dict)\n",
    "    \n",
    "replace_dict = {np.nan: 0, '0': 0}\n",
    "for cols in ['ct_ftp_cmd']:\n",
    "    data[cols] = data[cols].replace(replace_dict)\n",
    "        "
   ]
  },
  {
   "cell_type": "code",
   "execution_count": 5,
   "id": "e32dc166",
   "metadata": {},
   "outputs": [],
   "source": [
    "x = data.drop('attack_cat',axis=1).values.astype('float32')\n",
    "y = data.attack_cat.values"
   ]
  },
  {
   "cell_type": "code",
   "execution_count": 6,
   "id": "2111e866",
   "metadata": {},
   "outputs": [],
   "source": [
    "#Target Variable Label\n",
    "from sklearn.preprocessing import LabelEncoder\n",
    "le = LabelEncoder()\n",
    "y = le.fit_transform(y)"
   ]
  },
  {
   "cell_type": "code",
   "execution_count": 7,
   "id": "da396edc",
   "metadata": {},
   "outputs": [],
   "source": [
    "from sklearn import preprocessing\n",
    "\n",
    "scaler = preprocessing.StandardScaler()\n",
    "x = scaler.fit_transform(x)"
   ]
  },
  {
   "cell_type": "code",
   "execution_count": 8,
   "id": "68b53063",
   "metadata": {},
   "outputs": [
    {
     "data": {
      "text/plain": [
       "(2540047, 12)"
      ]
     },
     "execution_count": 8,
     "metadata": {},
     "output_type": "execute_result"
    }
   ],
   "source": [
    "x.shape"
   ]
  },
  {
   "cell_type": "code",
   "execution_count": 9,
   "id": "47e9f2f1",
   "metadata": {},
   "outputs": [
    {
     "name": "stdout",
     "output_type": "stream",
     "text": [
      "TRAIN: [ 354206  354207  354208 ... 2540044 2540045 2540046] TEST: [      0       1       2 ... 1142311 1142327 1142344]\n",
      "TRAIN: [      0       1       2 ... 2540044 2540045 2540046] TEST: [ 354206  354207  354208 ... 1711562 1711563 1711564]\n",
      "TRAIN: [      0       1       2 ... 1711562 1711563 1711564] TEST: [1385884 1385885 1385886 ... 2540044 2540045 2540046]\n"
     ]
    },
    {
     "data": {
      "text/plain": [
       "'\\nfrom sklearn.model_selection import RepeatedStratifiedKFold\\n\\nrskf = RepeatedStratifiedKFold(n_splits=6, n_repeats=6, random_state=36851234)\\nfor train_index, test_index in rskf.split(x, y):\\n     print(\"TRAIN:\", train_index, \"TEST:\", test_index)\\n     X_train, X_test = x[train_index], x[test_index]\\n     y_train, y_test = y[train_index], y[test_index]'"
      ]
     },
     "execution_count": 9,
     "metadata": {},
     "output_type": "execute_result"
    }
   ],
   "source": [
    "from sklearn.model_selection import StratifiedKFold\n",
    "\n",
    "skf = StratifiedKFold(n_splits=3)\n",
    "\n",
    "for train_index, test_index in skf.split(x, y):\n",
    "    print(\"TRAIN:\", train_index, \"TEST:\", test_index)\n",
    "    X_train, X_test = x[train_index], x[test_index]\n",
    "    y_train, y_test = y[train_index], y[test_index]\n",
    "\n",
    "\"\"\"\n",
    "from sklearn.model_selection import RepeatedStratifiedKFold\n",
    "\n",
    "rskf = RepeatedStratifiedKFold(n_splits=6, n_repeats=6, random_state=36851234)\n",
    "for train_index, test_index in rskf.split(x, y):\n",
    "     print(\"TRAIN:\", train_index, \"TEST:\", test_index)\n",
    "     X_train, X_test = x[train_index], x[test_index]\n",
    "     y_train, y_test = y[train_index], y[test_index]\"\"\""
   ]
  },
  {
   "cell_type": "code",
   "execution_count": 10,
   "id": "dca60c56",
   "metadata": {},
   "outputs": [
    {
     "name": "stdout",
     "output_type": "stream",
     "text": [
      "[(0, 1785), (1, 1553), (2, 10902), (3, 29684), (4, 16164), (5, 143654), (6, 1479176), (7, 9324), (8, 1007), (9, 116)]\n"
     ]
    }
   ],
   "source": [
    "print(sorted(Counter(y_train).items()))"
   ]
  },
  {
   "cell_type": "code",
   "execution_count": 11,
   "id": "10bc386f",
   "metadata": {},
   "outputs": [
    {
     "data": {
      "text/plain": [
       "(1693365, 12)"
      ]
     },
     "execution_count": 11,
     "metadata": {},
     "output_type": "execute_result"
    }
   ],
   "source": [
    "X_train.shape"
   ]
  },
  {
   "cell_type": "code",
   "execution_count": 12,
   "id": "7f797f5a",
   "metadata": {},
   "outputs": [
    {
     "name": "stdout",
     "output_type": "stream",
     "text": [
      "[(0, 177803), (1, 177803), (2, 177803), (3, 177803), (4, 177803), (5, 177803), (6, 1479176), (7, 177803), (8, 177803), (9, 177803)]\n"
     ]
    }
   ],
   "source": [
    "a = 177803 #y-traine göre belirlenmeli.\n",
    "smo = SMOTE(sampling_strategy={0:a,1:a,2:a,3:a,4:a,5:a,7:a,8:a,9:a},random_state=42) \n",
    "X_train, y_train = smo.fit_resample(X_train, y_train)   \n",
    "print(sorted(Counter(y_train).items()))"
   ]
  },
  {
   "cell_type": "code",
   "execution_count": 13,
   "id": "dbb7c59c",
   "metadata": {},
   "outputs": [],
   "source": [
    "from imblearn.under_sampling import EditedNearestNeighbours\n",
    "\n",
    "st = [6]\n",
    "# define the undersampling method\n",
    "undersample = EditedNearestNeighbours(n_neighbors=3, sampling_strategy=st)\n",
    "X_train, y_train = undersample.fit_resample(X_train, y_train)\n"
   ]
  },
  {
   "cell_type": "code",
   "execution_count": 14,
   "id": "a7d82511",
   "metadata": {},
   "outputs": [
    {
     "name": "stdout",
     "output_type": "stream",
     "text": [
      "[(0, 177803), (1, 177803), (2, 177803), (3, 177803), (4, 177803), (5, 177803), (6, 1458279), (7, 177803), (8, 177803), (9, 177803)]\n"
     ]
    }
   ],
   "source": [
    "print(sorted(Counter(y_train).items()))"
   ]
  },
  {
   "cell_type": "code",
   "execution_count": 15,
   "id": "c9e3418f",
   "metadata": {},
   "outputs": [],
   "source": [
    "from sklearn import datasets\n",
    "from sklearn.model_selection import train_test_split\n",
    "from sklearn.preprocessing import LabelEncoder \n",
    "import xgboost as xgb\n",
    "from sklearn.metrics import accuracy_score\n",
    "import pandas as pd\n",
    "import seaborn as sns\n",
    "from sklearn.metrics import classification_report, confusion_matrix\n",
    "import matplotlib.pylab as plt\n",
    "import numpy as np\n",
    "\n",
    "dtrain = xgb.DMatrix(data=X_train, label=y_train)\n",
    "dtest = xgb.DMatrix(data=X_test)"
   ]
  },
  {
   "cell_type": "code",
   "execution_count": 16,
   "id": "6a787a4f",
   "metadata": {},
   "outputs": [
    {
     "name": "stdout",
     "output_type": "stream",
     "text": [
      "[13:23:31] WARNING: /Users/travis/build/dmlc/xgboost/src/learner.cc:573: \n",
      "Parameters: { \"n_estimators\", \"scale_pos_weight\" } might not be used.\n",
      "\n",
      "  This may not be accurate due to some parameters are only used in language bindings but\n",
      "  passed down to XGBoost core.  Or some parameters are not used but slip through this\n",
      "  verification. Please open an issue if you find above cases.\n",
      "\n",
      "\n",
      "[13:23:39] WARNING: /Users/travis/build/dmlc/xgboost/src/learner.cc:1095: Starting in XGBoost 1.3.0, the default evaluation metric used with the objective 'multi:softmax' was changed from 'merror' to 'mlogloss'. Explicitly set eval_metric if you'd like to restore the old behavior.\n"
     ]
    }
   ],
   "source": [
    "params = {\n",
    "    'n_estimators':2000,\n",
    "    'subsample':0.6,\n",
    "    'colsample_bytree':0.7,\n",
    "    'objective': 'multi:softmax',  # error evaluation for multiclass training\n",
    "    'num_class': 10,\n",
    "    'eta':0.05,\n",
    "    'max_depth':3,\n",
    "    'nthread':4,\n",
    "    'scale_pos_weight':1,\n",
    "    'min_child_weight':5,\n",
    "    'learning_rate':0.1,\n",
    "    'gamma':0,\n",
    "    'seed':27\n",
    "}\n",
    "bst = xgb.train(params, dtrain)\n"
   ]
  },
  {
   "cell_type": "code",
   "execution_count": 17,
   "id": "1af14ccf",
   "metadata": {},
   "outputs": [],
   "source": [
    "pred = bst.predict(dtest)"
   ]
  },
  {
   "cell_type": "code",
   "execution_count": 18,
   "id": "943bf079",
   "metadata": {},
   "outputs": [
    {
     "name": "stdout",
     "output_type": "stream",
     "text": [
      "Classification report:               precision    recall  f1-score   support\n",
      "\n",
      "           0       0.07      0.14      0.09       892\n",
      "           1       0.05      0.78      0.09       776\n",
      "           2       0.24      0.00      0.00      5451\n",
      "           3       0.73      0.39      0.51     14841\n",
      "           4       0.41      0.51      0.46      8082\n",
      "           5       1.00      0.97      0.98     71827\n",
      "           6       1.00      0.99      0.99    739588\n",
      "           7       0.72      0.78      0.75      4663\n",
      "           8       0.06      0.67      0.11       504\n",
      "           9       0.02      0.79      0.04        58\n",
      "\n",
      "    accuracy                           0.96    846682\n",
      "   macro avg       0.43      0.60      0.40    846682\n",
      "weighted avg       0.98      0.96      0.97    846682\n",
      "\n",
      "Accuracy score:  0.9626435899192377\n"
     ]
    }
   ],
   "source": [
    "from sklearn.metrics import classification_report, confusion_matrix, accuracy_score, f1_score\n",
    "\n",
    "print(\"Classification report:\",classification_report(y_test,pred))\n",
    "print(\"Accuracy score: \", accuracy_score(y_test,pred))\n"
   ]
  },
  {
   "cell_type": "code",
   "execution_count": 19,
   "id": "664129ad",
   "metadata": {},
   "outputs": [
    {
     "data": {
      "text/plain": [
       "96.8916208382921"
      ]
     },
     "execution_count": 19,
     "metadata": {},
     "output_type": "execute_result"
    }
   ],
   "source": [
    "f1_score(y_test, pred, average=\"weighted\") * 100"
   ]
  },
  {
   "cell_type": "code",
   "execution_count": null,
   "id": "8291870b",
   "metadata": {},
   "outputs": [],
   "source": []
  }
 ],
 "metadata": {
  "kernelspec": {
   "display_name": "Python 3",
   "language": "python",
   "name": "python3"
  },
  "language_info": {
   "codemirror_mode": {
    "name": "ipython",
    "version": 3
   },
   "file_extension": ".py",
   "mimetype": "text/x-python",
   "name": "python",
   "nbconvert_exporter": "python",
   "pygments_lexer": "ipython3",
   "version": "3.8.8"
  }
 },
 "nbformat": 4,
 "nbformat_minor": 5
}
